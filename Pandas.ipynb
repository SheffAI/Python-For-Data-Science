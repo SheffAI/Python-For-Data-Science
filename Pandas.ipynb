{
 "cells": [
  {
   "cell_type": "markdown",
   "metadata": {},
   "source": [
    "# Pandas\n"
   ]
  },
  {
   "cell_type": "markdown",
   "metadata": {},
   "source": [
    "\n",
    "Pandas is the most popular python library used for data science and with good reason: it offers powerful, expressive and flexible data structures that make data manipulation and analysis easy.\n",
    "\n",
    "What’s cool about Pandas is that it takes data (like a CSV or Excel or a SQL database) and creates a Python object with rows and columns called *dataframe* that looks very similar to table in a statistical software (think Excel).\n",
    "\n",
    "As well as offering a convenient storage interface for labeled data, Pandas implements a number of powerful data operations familiar to users of both database frameworks and spreadsheet programs.\n",
    "\n",
    "\n",
    "    "
   ]
  },
  {
   "cell_type": "markdown",
   "metadata": {},
   "source": [
    "### Installation and getting started"
   ]
  },
  {
   "cell_type": "code",
   "execution_count": null,
   "metadata": {},
   "outputs": [],
   "source": [
    "import numpy as np\n",
    "import pandas as pd "
   ]
  },
  {
   "cell_type": "markdown",
   "metadata": {},
   "source": [
    "### Pandas Data Structures\n",
    "\n",
    "At the very basic level, Pandas objects can be thought of as enhanced versions of NumPy structured arrays in which the rows and columns are identified with labels rather than simple integer indices.\n",
    "\n",
    "#### The Pandas Series Object\n",
    "\n",
    "<br>\n",
    "A one-dimensional labeled array capable of holding any data type(integer, string, float, python objects).The axis labels are collectively called *index*.\n",
    "\n"
   ]
  },
  {
   "cell_type": "code",
   "execution_count": null,
   "metadata": {},
   "outputs": [],
   "source": [
    "#creating a series from ndarray\n",
    "data = np.array(['a','b','c','d'])\n",
    "s = pd.Series(data)\n",
    "print(s)"
   ]
  },
  {
   "cell_type": "markdown",
   "metadata": {},
   "source": [
    "We did not pass any index, so by default, it assigned the indexes ranging from 0 to len(data)-1, i.e., 0 to 3."
   ]
  },
  {
   "cell_type": "code",
   "execution_count": null,
   "metadata": {},
   "outputs": [],
   "source": [
    "#creating a series and passing the index values\n",
    "data = np.array(['a','b','c','d'])\n",
    "s = pd.Series(data,index=[100,101,102,103])\n",
    "print(s)"
   ]
  },
  {
   "cell_type": "code",
   "execution_count": null,
   "metadata": {
    "scrolled": true
   },
   "outputs": [],
   "source": [
    "#creating a series from a dictionary\n",
    "data = {'a' : 0., 'b' : 1., 'c' : 2.}\n",
    "s = pd.Series(data)\n",
    "print(s)"
   ]
  },
  {
   "cell_type": "markdown",
   "metadata": {},
   "source": [
    "**Observe** − Dictionary keys are used to construct index."
   ]
  },
  {
   "cell_type": "code",
   "execution_count": null,
   "metadata": {},
   "outputs": [],
   "source": [
    "s = pd.Series([3, -5, 7, 4],  index=['a',  'b',  'c',  'd'])\n",
    "print(s)"
   ]
  },
  {
   "cell_type": "markdown",
   "metadata": {},
   "source": [
    "### Accessing Data from Series with Position\n",
    "Data in the series can be accessed similar to that in an ndarray."
   ]
  },
  {
   "cell_type": "code",
   "execution_count": null,
   "metadata": {},
   "outputs": [],
   "source": [
    "#retrieve the first element\n",
    "s = pd.Series([1,2,3,4,5],index = ['a','b','c','d','e'])\n",
    "print(s[0])"
   ]
  },
  {
   "cell_type": "code",
   "execution_count": null,
   "metadata": {
    "scrolled": true
   },
   "outputs": [],
   "source": [
    "#retrieve the first 3 elements\n",
    "print(s[:3])"
   ]
  },
  {
   "cell_type": "markdown",
   "metadata": {},
   "source": [
    "### Retrieve Data Using Label (Index)\n",
    "A Series is like a fixed-size dict in that you can get and set values by index label."
   ]
  },
  {
   "cell_type": "code",
   "execution_count": null,
   "metadata": {},
   "outputs": [],
   "source": [
    "s = pd.Series([1,2,3,4,5],index = ['a','b','c','d','e'])\n",
    "\n",
    "#retrieve a single element\n",
    "print(s['a'])"
   ]
  },
  {
   "cell_type": "code",
   "execution_count": null,
   "metadata": {},
   "outputs": [],
   "source": [
    "#retrieve multiple elements using a list of index label values\n",
    "print(s[['a','c','d']])"
   ]
  },
  {
   "cell_type": "markdown",
   "metadata": {},
   "source": [
    "### The Pandas Series DataFrame object <br>\n",
    "A two-dimensional labeled data structure with columns of potentially different types. <br>\n",
    "In general, you could say that the Pandas DataFrame consists of three main components: the data, the index, and the columns.\n",
    "\n"
   ]
  },
  {
   "cell_type": "markdown",
   "metadata": {},
   "source": [
    "A DataFrame can contain data that is:\n",
    "- a Pandas `DataFrame`\n",
    "- a Pandas `Series`\n",
    "- a NumPy `ndarray`\n",
    "- dictionaries of one-dimensional `ndarray`’s, lists, dictionaries or Series.\n",
    "\n",
    "Note the difference between `np.ndarray` and `np.array()`.The former is an actual data type, while the latter is a function to make arrays from other data structures.\n"
   ]
  },
  {
   "cell_type": "code",
   "execution_count": null,
   "metadata": {},
   "outputs": [],
   "source": [
    "#create a dataframe from lists\n",
    "data = [['Alex',10],['Bob',12],['Clarke',13]]\n",
    "df = pd.DataFrame(data,columns=['Name','Age'])\n",
    "df"
   ]
  },
  {
   "cell_type": "code",
   "execution_count": null,
   "metadata": {},
   "outputs": [],
   "source": [
    "#create dataframe from dictionary of lists/ndarrays\n",
    "#all the arrays mut be of the same length\n",
    "data = {'Country': ['Belgium',  'India',  'Brazil'],\n",
    "\n",
    "        'Capital': ['Brussels',  'New Delhi',  'Brasilia'],\n",
    "\n",
    "        'Population': [11190846, 1303171035, 207847528]}\n",
    "\n",
    "df = pd.DataFrame(data, columns=['Country',  'Capital',  'Population'])\n",
    "df"
   ]
  },
  {
   "cell_type": "code",
   "execution_count": null,
   "metadata": {},
   "outputs": [],
   "source": [
    "#create a dataframe from a dictionary and pass an index\n",
    "data = {'Name':['Tom', 'Jack', 'Steve', 'Ricky'],'Age':[28,34,29,42]}\n",
    "df = pd.DataFrame(data, index=['rank1','rank2','rank3','rank4'])\n",
    "df"
   ]
  },
  {
   "cell_type": "markdown",
   "metadata": {},
   "source": [
    "### Loading and Saving Data with Pandas\n",
    "\n",
    "Usually, when we use pandas for data analysis, we’ll use it in one of three different ways:\n",
    "- Convert a Python’s list, dictionary or Numpy array to a Pandas data frame\n",
    "- Open a local file using Pandas, usually a CSV or Excel file\n",
    "- Open a remote file or database like a CSV or a JSONon a website through a URL or read from a SQL table/database\n",
    "\n",
    "\n"
   ]
  },
  {
   "cell_type": "markdown",
   "metadata": {},
   "source": [
    "**Read and Write to CSV**\n"
   ]
  },
  {
   "cell_type": "code",
   "execution_count": null,
   "metadata": {},
   "outputs": [],
   "source": [
    "#write to csv file\n",
    "df.to_csv('csv_example.csv')\n",
    "\n",
    "#read from csv file\n",
    "df_csv = pd.read_csv('csv_example.csv')\n",
    "df_csv"
   ]
  },
  {
   "cell_type": "markdown",
   "metadata": {},
   "source": [
    "Well, we can see that the index is generated twice, the first one is loaded from the CSV file, while the second one, i.e `Unnamed` is generated automatically by Pandas while loading the CSV file.\n",
    "\n",
    "This problem can be avoided by making sure that the writing of CSV files doesn’t write indexes, because `DataFrame` will generate it anyway. We can do the same by specifying `index = False` parameter in `to_csv(...)` function.\n"
   ]
  },
  {
   "cell_type": "code",
   "execution_count": null,
   "metadata": {},
   "outputs": [],
   "source": [
    "#write\n",
    "df.to_csv('csv_example.csv', index=False)\n",
    "\n",
    "#read\n",
    "df_csv = pd.read_csv('csv_example.csv')\n",
    "df_csv"
   ]
  },
  {
   "cell_type": "markdown",
   "metadata": {},
   "source": [
    "**Read and Write to Excel**"
   ]
  },
  {
   "cell_type": "code",
   "execution_count": null,
   "metadata": {},
   "outputs": [],
   "source": [
    "#write to excel\n",
    "df.to_excel('excel-example.xlsx', index=False, sheet_name='Sheet1')\n",
    "\n",
    "#read from excel\n",
    "df_excel = pd.read_excel('excel-example.xlsx')\n",
    "df_excel"
   ]
  },
  {
   "cell_type": "markdown",
   "metadata": {},
   "source": [
    "### Selection of Data"
   ]
  },
  {
   "cell_type": "code",
   "execution_count": null,
   "metadata": {},
   "outputs": [],
   "source": [
    "data = {'Country': ['Belgium',  'India',  'Brazil'],\n",
    "\n",
    "        'Capital': ['Brussels',  'New Delhi',  'Brasilia'],\n",
    "\n",
    "        'Population': [11190846, 1303171035, 207847528]}\n",
    "\n",
    "df = pd.DataFrame(data, columns=['Country',  'Capital',  'Population'])"
   ]
  },
  {
   "cell_type": "code",
   "execution_count": null,
   "metadata": {},
   "outputs": [],
   "source": [
    "#get subset of a DataFrame\n",
    "df[1:] #starting from row with index 1 and all columns\n"
   ]
  },
  {
   "cell_type": "code",
   "execution_count": null,
   "metadata": {},
   "outputs": [],
   "source": [
    "#select the first row \n",
    "df.iloc[0]"
   ]
  },
  {
   "cell_type": "markdown",
   "metadata": {},
   "source": [
    "By Position <br>\n",
    "\n",
    "\n",
    "\n"
   ]
  },
  {
   "cell_type": "code",
   "execution_count": null,
   "metadata": {
    "scrolled": true
   },
   "outputs": [],
   "source": [
    "# Select single value by row and and column\n",
    "#first element of the first column\n",
    "df.iloc[[0],[0]]"
   ]
  },
  {
   "cell_type": "code",
   "execution_count": null,
   "metadata": {
    "scrolled": true
   },
   "outputs": [],
   "source": [
    "#Select multiple values by row and and column\n",
    "df.iloc[1:3,[1]] #rows 1 and 2 and just column with index 1-> Capital"
   ]
  },
  {
   "cell_type": "code",
   "execution_count": null,
   "metadata": {},
   "outputs": [],
   "source": [
    "df.iloc[[0,2],[1]] #rows with index 0 and 2 and column indexd at 1-> Capital"
   ]
  },
  {
   "cell_type": "markdown",
   "metadata": {},
   "source": [
    "By Label"
   ]
  },
  {
   "cell_type": "code",
   "execution_count": null,
   "metadata": {},
   "outputs": [],
   "source": [
    "#Select single value by row and column labels\n",
    "df.loc[1, 'Country']"
   ]
  },
  {
   "cell_type": "code",
   "execution_count": null,
   "metadata": {},
   "outputs": [],
   "source": [
    "#Select multiple values by row and column labels\n",
    "df.loc[0:1,['Capital', 'Country']]"
   ]
  },
  {
   "cell_type": "markdown",
   "metadata": {},
   "source": [
    "### Filter, Sort and Groupby\n"
   ]
  },
  {
   "cell_type": "code",
   "execution_count": null,
   "metadata": {},
   "outputs": [],
   "source": [
    "#You can use different conditions to filter columns\n",
    "df[df['Population']<12000000]"
   ]
  },
  {
   "cell_type": "code",
   "execution_count": null,
   "metadata": {},
   "outputs": [],
   "source": [
    "#sort values in a column in ascending order using df.sort_values(col1)\n",
    "df.sort_values('Country')"
   ]
  },
  {
   "cell_type": "code",
   "execution_count": null,
   "metadata": {},
   "outputs": [],
   "source": [
    "#or in dscending order\n",
    "df.sort_values('Country', ascending=False)"
   ]
  },
  {
   "cell_type": "code",
   "execution_count": null,
   "metadata": {},
   "outputs": [],
   "source": [
    "#also possible to sort ascending by one column and descending by another one\n",
    "df.sort_values(['Country','Population'],ascending=[True,False])"
   ]
  },
  {
   "cell_type": "markdown",
   "metadata": {},
   "source": [
    "### Viewing and Inspecting Data\n",
    "**Basic information**"
   ]
  },
  {
   "cell_type": "code",
   "execution_count": null,
   "metadata": {},
   "outputs": [],
   "source": [
    "#get the first 2 rows\n",
    "df.head(2)"
   ]
  },
  {
   "cell_type": "code",
   "execution_count": null,
   "metadata": {},
   "outputs": [],
   "source": [
    "#get the last 2 rows\n",
    "df.tail(2)"
   ]
  },
  {
   "cell_type": "code",
   "execution_count": null,
   "metadata": {},
   "outputs": [],
   "source": [
    "#get the nr of rows and columns\n",
    "print(df.shape)\n",
    "\n",
    "#describe the columns\n",
    "print(df.columns)\n",
    "\n",
    "#get the index, datatype and memory information\n",
    "df.info()\n",
    "\n",
    "#Number of non-NA values\n",
    "df.count()"
   ]
  },
  {
   "cell_type": "code",
   "execution_count": null,
   "metadata": {},
   "outputs": [],
   "source": [
    "#returns the actual data in the dataframe as an ndarray\n",
    "df.values"
   ]
  },
  {
   "cell_type": "markdown",
   "metadata": {},
   "source": [
    "**Summary information**\n",
    "<br>\n",
    "To get statistics on the entire dataframe or a series we can use: \n",
    "- `df.mean()` Returns the mean of all columns\n",
    "- `df.corr()` Returns the correlation between columns in a data frame\n",
    "-  `df.count()` Returns the number of non-null values in each data frame column\n",
    "-  `df.max()` Returns the highest value in each column\n",
    "-  `df.min()` Returns the lowest value in each column\n",
    "-  `df.median()` Returns the median of each column\n",
    "- `df.std()` Returns the standard deviation of each column"
   ]
  },
  {
   "cell_type": "code",
   "execution_count": null,
   "metadata": {},
   "outputs": [],
   "source": [
    "#creating a dataframe to try our some functions\n",
    "data = {'Name':pd.Series(['Tom','James','Ricky','Vin','Steve','Smith','Jack',\n",
    "   'Lee','David','Gasper','Betina','Andres']),\n",
    "   'Age':pd.Series([25,26,25,23,30,29,23,34,40,30,51,46]),\n",
    "   'Rating':pd.Series([4.23,3.24,3.98,2.56,3.20,4.6,3.78,2.98,4.80,4.10,3.65])\n",
    "}\n",
    "df = pd.DataFrame(data)\n",
    "df"
   ]
  },
  {
   "cell_type": "code",
   "execution_count": null,
   "metadata": {},
   "outputs": [],
   "source": [
    "df.sum()"
   ]
  },
  {
   "cell_type": "code",
   "execution_count": null,
   "metadata": {},
   "outputs": [],
   "source": [
    "df.corr()"
   ]
  },
  {
   "cell_type": "code",
   "execution_count": null,
   "metadata": {},
   "outputs": [],
   "source": [
    "df.dropna()"
   ]
  },
  {
   "cell_type": "code",
   "execution_count": null,
   "metadata": {
    "scrolled": true
   },
   "outputs": [],
   "source": [
    "df.max()"
   ]
  },
  {
   "cell_type": "markdown",
   "metadata": {},
   "source": [
    "###  Data Cleaning\n",
    "\n",
    "Data cleaning is a very important step in data analysis.\n",
    "- `df.isnull()` checks for null values and returns a boolean array\n",
    "- `df.notnull()` is the opposit of `df.isnull()`, returns boolean array too\n",
    "- `df.dropna()` drops rows with empty values\n",
    "- `df.dropna(axis=1)` drops columns with empty values\n",
    "- `df.fillna(x)` which fills the missing values with x\n",
    "- `df.replace(old,new)` replaces all old values with new one"
   ]
  },
  {
   "cell_type": "markdown",
   "metadata": {},
   "source": [
    "\n"
   ]
  },
  {
   "cell_type": "code",
   "execution_count": null,
   "metadata": {},
   "outputs": [],
   "source": [
    "df.isnull()"
   ]
  },
  {
   "cell_type": "code",
   "execution_count": null,
   "metadata": {},
   "outputs": [],
   "source": [
    "df.notnull()"
   ]
  },
  {
   "cell_type": "code",
   "execution_count": null,
   "metadata": {},
   "outputs": [],
   "source": [
    "df.dropna(axis=1)"
   ]
  },
  {
   "cell_type": "code",
   "execution_count": null,
   "metadata": {},
   "outputs": [],
   "source": [
    "df.fillna(1.2)"
   ]
  },
  {
   "cell_type": "code",
   "execution_count": null,
   "metadata": {},
   "outputs": [],
   "source": [
    "df.replace(25,555)"
   ]
  },
  {
   "cell_type": "markdown",
   "metadata": {},
   "source": [
    "### Join/Combine\n",
    "\n",
    "The last set of basic Pandas commands are for joining or combining data frames or rows/columns. The three commands are:\n",
    "- `df1.append(df2)` — add the rows in df1 to the end of df2 (columns should be identical)\n",
    "- `pd.concat([df1, df2],axis=1)` — add the columns in df1 to the end of df2 (rows should be identical)\n",
    "- `df1.merge(df2,on=col1,how='inner')` — SQL-style join the columns in df1 with the columns on df2 where the rows for `col` have identical values. `how` variable can be equal to one of: 'left', 'right', 'outer', 'inner'.\n"
   ]
  },
  {
   "cell_type": "code",
   "execution_count": null,
   "metadata": {},
   "outputs": [],
   "source": [
    "#creating first dataframe\n",
    "data1 = {'Name':pd.Series(['Tom','James','Ricky','Vin','Steve','Smith','Jack',\n",
    "   'Lee','David','Gasper','Betina','Andres']),\n",
    "   'Age':pd.Series([25,26,25,23,30,29,23,34,40,30,51,46]),\n",
    "   'Rating':pd.Series([4.23,3.24,3.98,2.56,3.20,4.6,3.78,2.98,4.80,4.10,3.65])\n",
    "}\n",
    "df1 = pd.DataFrame(data1)\n",
    "\n",
    "#creating second dataframe\n",
    "data2 = {'Name':pd.Series(['Andreea','Vlad','Carlo']),\n",
    "   'Age':pd.Series([21,21,21]),\n",
    "   'Rating':pd.Series([4.,5,4.6])\n",
    "}\n",
    "df2 = pd.DataFrame(data2)\n",
    "\n",
    "#using append\n",
    "df3 = df1.append(df2)\n",
    "df3"
   ]
  },
  {
   "cell_type": "code",
   "execution_count": null,
   "metadata": {},
   "outputs": [],
   "source": [
    "#creating first dataframe\n",
    "data1 = {'Name':pd.Series(['Tom','James','Ricky','Vin','Steve']),\n",
    "   'Age':pd.Series([25,26,25,23,30]),\n",
    "   'Rating':pd.Series([4.23,3.24,3.98,2.56,3.20])\n",
    "}\n",
    "df1 = pd.DataFrame(data1)\n",
    "\n",
    "#creating second dataframe\n",
    "data2 = {'Ocupation':pd.Series(['Student','Professional','Student','Student',\n",
    "                                'Professional'])\n",
    "}\n",
    "df2 = pd.DataFrame(data2)\n",
    "\n",
    "#using concat\n",
    "df3 = pd.concat([df1, df2],axis=1)\n",
    "df3"
   ]
  },
  {
   "cell_type": "code",
   "execution_count": null,
   "metadata": {},
   "outputs": [],
   "source": [
    "#creating first dataframe\n",
    "data1 = {'Name':pd.Series(['Tom','James','Ricky','Vin','Steve']),\n",
    "   'Age':pd.Series([25,26,25,23,30]),\n",
    "   'Rating':pd.Series([4.23,3.24,3.98,2.56,3.20])\n",
    "}\n",
    "df1 = pd.DataFrame(data1)\n",
    "\n",
    "#creating second dataframe\n",
    "data2 = {'Name':pd.Series(['Tom','James','Ricky','Vin','Steve']),\n",
    "        'Ocupation':pd.Series(['Student','Professional','Student','Student',\n",
    "                                'Professional'])\n",
    "}\n",
    "df2 = pd.DataFrame(data2)\n",
    "\n",
    "#using merge\n",
    "df3 = df1.merge(df2,on='Name',how='left') \n",
    "df3"
   ]
  },
  {
   "cell_type": "code",
   "execution_count": null,
   "metadata": {},
   "outputs": [],
   "source": []
  }
 ],
 "metadata": {
  "kernelspec": {
   "display_name": "Python 3",
   "language": "python",
   "name": "python3"
  },
  "language_info": {
   "codemirror_mode": {
    "name": "ipython",
    "version": 3
   },
   "file_extension": ".py",
   "mimetype": "text/x-python",
   "name": "python",
   "nbconvert_exporter": "python",
   "pygments_lexer": "ipython3",
   "version": "3.7.3"
  }
 },
 "nbformat": 4,
 "nbformat_minor": 2
}
